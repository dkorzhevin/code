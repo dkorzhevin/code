{
 "cells": [
  {
   "cell_type": "code",
   "execution_count": 13,
   "metadata": {
    "scrolled": true
   },
   "outputs": [
    {
     "name": "stdout",
     "output_type": "stream",
     "text": [
      "Total minutes: 334\n",
      "Hours : 5\n",
      "Minutes: 44\n",
      "Alarm should be set on: 11 hours\n",
      "And 18 minutes\n"
     ]
    }
   ],
   "source": [
    "kate_time = int(input(\"Total minutes: \"))\n",
    "kate_hours = int(input(\"Hours : \"))\n",
    "kate_minutes = int(input(\"Minutes: \"))\n",
    "\n",
    "kate_time_minutes_total = int(((kate_hours*60)+kate_time+kate_minutes))\n",
    "\n",
    "print(\"Alarm should be set on:\", int(kate_time_minutes_total/60), \"hours\")\n",
    "print(\"And\", int(kate_time_minutes_total % 60), \"minutes\")"
   ]
  },
  {
   "cell_type": "code",
   "execution_count": null,
   "metadata": {},
   "outputs": [],
   "source": []
  }
 ],
 "metadata": {
  "kernelspec": {
   "display_name": "Python 3",
   "language": "python",
   "name": "python3"
  },
  "language_info": {
   "codemirror_mode": {
    "name": "ipython",
    "version": 3
   },
   "file_extension": ".py",
   "mimetype": "text/x-python",
   "name": "python",
   "nbconvert_exporter": "python",
   "pygments_lexer": "ipython3",
   "version": "3.8.1"
  }
 },
 "nbformat": 4,
 "nbformat_minor": 4
}
